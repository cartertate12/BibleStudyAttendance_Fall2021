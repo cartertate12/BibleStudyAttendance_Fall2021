{
 "cells": [
  {
   "cell_type": "code",
   "execution_count": 1,
   "metadata": {},
   "outputs": [],
   "source": [
    "import datetime as dt\n",
    "import pandas as pd"
   ]
  },
  {
   "cell_type": "code",
   "execution_count": 27,
   "metadata": {},
   "outputs": [],
   "source": [
    "attendanceFile = pd.ExcelFile('bible study attendance.xlsx') #read in file\n",
    "sheet_dict = {}\n",
    "for sheet in range(len(attendanceFile.sheet_names)):\n",
    "    sheet_dict[attendanceFile.sheet_names[sheet]] = pd.read_excel('bible study attendance.xlsx',sheet_name=attendanceFile.sheet_names[sheet])"
   ]
  },
  {
   "cell_type": "code",
   "execution_count": 60,
   "metadata": {},
   "outputs": [
    {
     "data": {
      "text/plain": [
       "dict_keys(['Name Database', 'Bible Study 126', 'Bible Study 1129', 'Bible Study 118', 'Bible Study 111', 'Halloween Party', 'Bible Study 1018', 'Bible Study 1011', 'Bible Study 104', 'Bible Study 927', 'Bible Study 920', 'Bible Study 913', 'Paint FIght', 'Bible Study 830', 'Kickball & Tie-Dye 8-27', 'Bible Study 8-23', 'Ultimate & Popsicles 8-20', 'Movie Night 8-17', 'Kickball & Ice Cream 8-16'])"
      ]
     },
     "execution_count": 60,
     "metadata": {},
     "output_type": "execute_result"
    }
   ],
   "source": [
    "sheet_dict.keys()"
   ]
  },
  {
   "cell_type": "code",
   "execution_count": 87,
   "metadata": {},
   "outputs": [],
   "source": [
    "sheet_list = list(sheet_dict.keys())\n",
    "\n",
    "nameDatabase = sheet_dict[sheet_list[0]][['Name']].dropna(axis=0,how='all')\n",
    "\n",
    "study1206 = sheet_dict[sheet_list[1]][['Name']].dropna(axis=0,how='all')\n",
    "study1206['Date'] = ['1206' for ele in range(study1206.shape[0])]\n",
    "study1206['Event'] = ['study1206' for ele in range(study1206.shape[0])]\n",
    "\n",
    "study1129 = sheet_dict[sheet_list[2]][['Name']].dropna(axis=0,how='all')\n",
    "study1129['Date'] = ['1129' for ele in range(study1129.shape[0])] \n",
    "study1129['Event'] = ['study1129' for ele in range(study1129.shape[0])]\n",
    "\n",
    "study1108 = sheet_dict[sheet_list[3]][['Name']].dropna(axis=0,how='all')\n",
    "study1108['Date'] = ['1108' for ele in range(study1108.shape[0])] \n",
    "study1108['Event'] = ['study1108' for ele in range(study1108.shape[0])]\n",
    "\n",
    "study1101 = sheet_dict[sheet_list[4]][['Name']].dropna(axis=0,how='all')\n",
    "study1101['Date'] = ['1101' for ele in range(study1101.shape[0])]\n",
    "study1101['Event'] = ['study1101' for ele in range(study1101.shape[0])]\n",
    "\n",
    "halloweenParty = sheet_dict[sheet_list[5]][['Name']].dropna(axis=0,how='all')\n",
    "halloweenParty['Date'] = ['1031' for ele in range(halloweenParty.shape[0])]\n",
    "halloweenParty['Event'] = ['halloweenParty' for ele in range(halloweenParty.shape[0])]\n",
    "\n",
    "study1018 = sheet_dict[sheet_list[6]][['Name']].dropna(axis=0,how='all')\n",
    "study1018['Date'] = ['1018' for ele in range(study1018.shape[0])]\n",
    "study1018['Event'] = ['study1018' for ele in range(study1018.shape[0])]\n",
    "\n",
    "study1011 = sheet_dict[sheet_list[7]][['Name']].dropna(axis=0,how='all')\n",
    "study1011['Date'] = ['1011' for ele in range(study1011.shape[0])]\n",
    "study1011['Event'] = ['study1011' for ele in range(study1011.shape[0])]\n",
    "\n",
    "study1004 = sheet_dict[sheet_list[8]][['Name']].dropna(axis=0,how='all')\n",
    "study1004['Date'] = ['1004' for ele in range(study1004.shape[0])]\n",
    "study1004['Event'] = ['study1004' for ele in range(study1004.shape[0])]\n",
    "\n",
    "study0927 = sheet_dict[sheet_list[9]][['Name']].dropna(axis=0,how='all')\n",
    "study0927['Date'] = ['0927' for ele in range(study0927.shape[0])]\n",
    "study0927['Event'] = ['study0927' for ele in range(study0927.shape[0])]\n",
    "\n",
    "study0920 = sheet_dict[sheet_list[10]][['Name']].dropna(axis=0,how='all')\n",
    "study0920['Date'] = ['0920' for ele in range(study0920.shape[0])]\n",
    "study0920['Event'] = ['study0920' for ele in range(study0920.shape[0])]\n",
    "\n",
    "study0913 = sheet_dict[sheet_list[11]][['Name']].dropna(axis=0,how='all')\n",
    "study0913['Date'] = ['0913' for ele in range(study0913.shape[0])]\n",
    "study0913['Event'] = ['study0913' for ele in range(study0913.shape[0])]\n",
    "\n",
    "paintFight = sheet_dict[sheet_list[12]][['Name']].dropna(axis=0,how='all')\n",
    "paintFight['Date'] = ['0906' for ele in range(paintFight.shape[0])]\n",
    "paintFight['Event'] = ['paintFight' for ele in range(paintFight.shape[0])]\n",
    "\n",
    "study0830 = sheet_dict[sheet_list[13]][['Name']].dropna(axis=0,how='all')\n",
    "study0830['Date'] = ['0830' for ele in range(study0830.shape[0])]\n",
    "study0830['Event'] = ['study0830' for ele in range(study0830.shape[0])]\n",
    "\n",
    "kickball_TieDie0827 = sheet_dict[sheet_list[14]][['Name']].dropna(axis=0,how='all')\n",
    "kickball_TieDie0827['Date'] = ['0827' for ele in range(kickball_TieDie0827.shape[0])]\n",
    "kickball_TieDie0827['Event'] = ['kickball_TieDie0827' for ele in range(kickball_TieDie0827.shape[0])]\n",
    "\n",
    "study0823 = sheet_dict[sheet_list[15]][['Name']].dropna(axis=0,how='all')\n",
    "study0823['Date'] = ['0823' for ele in range(study0823.shape[0])]\n",
    "study0823['Event'] = ['study0823' for ele in range(study0823.shape[0])]\n",
    "\n",
    "ultimateAndPopsicles = sheet_dict[sheet_list[16]][['Name']].dropna(axis=0,how='all')\n",
    "ultimateAndPopsicles['Date'] = ['0820' for ele in range(ultimateAndPopsicles.shape[0])]\n",
    "ultimateAndPopsicles['Event'] = ['ultimateAndPopsicles' for ele in range(ultimateAndPopsicles.shape[0])]\n",
    "\n",
    "movieNight0817 = sheet_dict[sheet_list[17]][['Name']].dropna(axis=0,how='all')\n",
    "movieNight0817['Date'] = ['0817' for ele in range(movieNight0817.shape[0])]\n",
    "movieNight0817['Event'] = ['movieNight0817' for ele in range(movieNight0817.shape[0])]\n",
    "\n",
    "kickball_IceCream = sheet_dict[sheet_list[18]][['Name']].dropna(axis=0,how='all')\n",
    "kickball_IceCream['Date'] = ['0816' for ele in range(kickball_IceCream.shape[0])]\n",
    "kickball_IceCream['Event'] = ['kickball_IceCream' for ele in range(kickball_IceCream.shape[0])]\n",
    "\n",
    "masterDF = pd.DataFrame()\n",
    "masterDF = pd.concat([halloweenParty,kickball_IceCream,kickball_TieDie0827,movieNight0817,paintFight,study0823,study0830,study0913,study0920,study0927,study1004,study1011,study1018,study1101,study1108,study1129,study1206,ultimateAndPopsicles])\n",
    "masterDF\n",
    "\n",
    "bibleStudies = masterDF[masterDF.Event.str.contains('study')]\n"
   ]
  },
  {
   "cell_type": "code",
   "execution_count": 35,
   "metadata": {},
   "outputs": [
    {
     "data": {
      "text/html": [
       "<div>\n",
       "<style scoped>\n",
       "    .dataframe tbody tr th:only-of-type {\n",
       "        vertical-align: middle;\n",
       "    }\n",
       "\n",
       "    .dataframe tbody tr th {\n",
       "        vertical-align: top;\n",
       "    }\n",
       "\n",
       "    .dataframe thead th {\n",
       "        text-align: right;\n",
       "    }\n",
       "</style>\n",
       "<table border=\"1\" class=\"dataframe\">\n",
       "  <thead>\n",
       "    <tr style=\"text-align: right;\">\n",
       "      <th></th>\n",
       "      <th>Name</th>\n",
       "      <th>Phone Number</th>\n",
       "      <th>Email Address</th>\n",
       "      <th>NOTES</th>\n",
       "    </tr>\n",
       "  </thead>\n",
       "  <tbody>\n",
       "    <tr>\n",
       "      <th>0</th>\n",
       "      <td>Addison Knight</td>\n",
       "      <td>8.175041e+09</td>\n",
       "      <td>akk1968@gmail.com</td>\n",
       "      <td>NaN</td>\n",
       "    </tr>\n",
       "    <tr>\n",
       "      <th>1</th>\n",
       "      <td>Colten Larsen</td>\n",
       "      <td>5.126566e+09</td>\n",
       "      <td>larsencolten5@gmail.com</td>\n",
       "      <td>NaN</td>\n",
       "    </tr>\n",
       "    <tr>\n",
       "      <th>2</th>\n",
       "      <td>Malachi Massey</td>\n",
       "      <td>4.799579e+09</td>\n",
       "      <td>mm204@uark.edu</td>\n",
       "      <td>NaN</td>\n",
       "    </tr>\n",
       "    <tr>\n",
       "      <th>3</th>\n",
       "      <td>Jordan Smith</td>\n",
       "      <td>4.792828e+09</td>\n",
       "      <td>ajsmith700@gmail.com</td>\n",
       "      <td>NaN</td>\n",
       "    </tr>\n",
       "    <tr>\n",
       "      <th>4</th>\n",
       "      <td>Kara Simmons</td>\n",
       "      <td>4.693390e+09</td>\n",
       "      <td>penny8077@icloud.com</td>\n",
       "      <td>NaN</td>\n",
       "    </tr>\n",
       "  </tbody>\n",
       "</table>\n",
       "</div>"
      ],
      "text/plain": [
       "             Name  Phone Number            Email Address  NOTES\n",
       "0  Addison Knight  8.175041e+09        akk1968@gmail.com    NaN\n",
       "1   Colten Larsen  5.126566e+09  larsencolten5@gmail.com    NaN\n",
       "2  Malachi Massey  4.799579e+09           mm204@uark.edu    NaN\n",
       "3    Jordan Smith  4.792828e+09     ajsmith700@gmail.com    NaN\n",
       "4    Kara Simmons  4.693390e+09     penny8077@icloud.com    NaN"
      ]
     },
     "execution_count": 35,
     "metadata": {},
     "output_type": "execute_result"
    }
   ],
   "source": [
    "sheet_dict['Bible Study 1129'].head()"
   ]
  },
  {
   "cell_type": "code",
   "execution_count": null,
   "metadata": {},
   "outputs": [],
   "source": [
    "sheet_dict['Bible Study 1129'].head()"
   ]
  },
  {
   "cell_type": "code",
   "execution_count": 6,
   "metadata": {},
   "outputs": [
    {
     "data": {
      "text/plain": [
       "<pandas.io.excel._base.ExcelFile at 0x7fd9a6fef5b0>"
      ]
     },
     "execution_count": 6,
     "metadata": {},
     "output_type": "execute_result"
    }
   ],
   "source": [
    "attendanceFile"
   ]
  }
 ],
 "metadata": {
  "interpreter": {
   "hash": "40d3a090f54c6569ab1632332b64b2c03c39dcf918b08424e98f38b5ae0af88f"
  },
  "kernelspec": {
   "display_name": "Python 3.8.3 64-bit ('base': conda)",
   "language": "python",
   "name": "python3"
  },
  "language_info": {
   "codemirror_mode": {
    "name": "ipython",
    "version": 3
   },
   "file_extension": ".py",
   "mimetype": "text/x-python",
   "name": "python",
   "nbconvert_exporter": "python",
   "pygments_lexer": "ipython3",
   "version": "3.8.3"
  },
  "orig_nbformat": 4
 },
 "nbformat": 4,
 "nbformat_minor": 2
}
